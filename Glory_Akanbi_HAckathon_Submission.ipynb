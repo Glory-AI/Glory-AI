{
  "nbformat": 4,
  "nbformat_minor": 0,
  "metadata": {
    "colab": {
      "provenance": [],
      "authorship_tag": "ABX9TyPTzAryrpPxN/8VOmeEvuek",
      "include_colab_link": true
    },
    "kernelspec": {
      "name": "python3",
      "display_name": "Python 3"
    },
    "language_info": {
      "name": "python"
    }
  },
  "cells": [
    {
      "cell_type": "markdown",
      "metadata": {
        "id": "view-in-github",
        "colab_type": "text"
      },
      "source": [
        "<a href=\"https://colab.research.google.com/github/Glory-AI/Glory-AI/blob/main/Glory_Akanbi_HAckathon_Submission.ipynb\" target=\"_parent\"><img src=\"https://colab.research.google.com/assets/colab-badge.svg\" alt=\"Open In Colab\"/></a>"
      ]
    },
    {
      "cell_type": "code",
      "execution_count": 19,
      "metadata": {
        "id": "ak8m9RU32Ac5"
      },
      "outputs": [],
      "source": [
        "import numpy as np\n",
        "import pandas as pd\n",
        "import matplotlib.pyplot as plt\n",
        "import seaborn as sns\n",
        "\n",
        "\n",
        "from sklearn.model_selection import train_test_split\n",
        "from sklearn.ensemble import RandomForestRegressor\n",
        "from sklearn.metrics import mean_squared_error\n",
        "from sklearn.pipeline import Pipeline\n",
        "from sklearn.preprocessing import LabelEncoder\n",
        "from sklearn.model_selection import KFold, GridSearchCV, cross_val_score\n",
        "from sklearn.preprocessing import OneHotEncoder\n",
        "from sklearn.compose import ColumnTransformer\n",
        "from sklearn.metrics import make_scorer, mean_squared_error"
      ]
    },
    {
      "cell_type": "code",
      "source": [
        "train= pd.read_csv('/content/train.csv')\n",
        "test= pd.read_csv(\"/content/test.csv\")"
      ],
      "metadata": {
        "id": "W32Y7k6L2Nyg"
      },
      "execution_count": 20,
      "outputs": []
    },
    {
      "cell_type": "code",
      "source": [
        "test_ids = test[\"id\"]"
      ],
      "metadata": {
        "id": "Eoa1A6vv3Hh0"
      },
      "execution_count": 21,
      "outputs": []
    },
    {
      "cell_type": "code",
      "source": [
        "for col in [\"fuel_type\", \"clean_title\", \"engine\", \"transmission\", \"ext_col\", \"int_col\", \"accident\"]:\n",
        "    mode_val = train[col].mode()[0]\n",
        "    train[col].fillna(mode_val, inplace=True)\n",
        "    test[col].fillna(mode_val, inplace=True)\n",
        "\n",
        "train[\"accident\"].fillna(\"None reported\", inplace=True)\n",
        "test[\"accident\"].fillna(\"None reported\", inplace=True)\n",
        "\n",
        "train['clean_title_flag'] = train['clean_title'].apply(lambda x: 1 if x == \"Yes\" else 0)\n",
        "test['clean_title_flag'] = test['clean_title'].apply(lambda x: 1 if x == \"Yes\" else 0)\n",
        "# Age of car = current_year - model_year\n",
        "CURRENT_YEAR = 2025\n",
        "train[\"car_age\"] = 2025 - train[\"model_year\"]\n",
        "test[\"car_age\"] = 2025- test[\"model_year\"]\n",
        "\n",
        "# Drop unused columns\n",
        "y = train[\"price\"]\n",
        "X = train.drop(columns=[\"price\", \"id\", \"clean_title\", \"model_year\"])\n",
        "X_test= test.drop(columns=[\"id\", \"clean_title\", \"model_year\"])"
      ],
      "metadata": {
        "colab": {
          "base_uri": "https://localhost:8080/"
        },
        "id": "1SoswybB3XZ_",
        "outputId": "810cbf91-701b-4fe7-90d3-6ce000912789"
      },
      "execution_count": 22,
      "outputs": [
        {
          "output_type": "stream",
          "name": "stderr",
          "text": [
            "/tmp/ipython-input-4240312746.py:3: FutureWarning: A value is trying to be set on a copy of a DataFrame or Series through chained assignment using an inplace method.\n",
            "The behavior will change in pandas 3.0. This inplace method will never work because the intermediate object on which we are setting values always behaves as a copy.\n",
            "\n",
            "For example, when doing 'df[col].method(value, inplace=True)', try using 'df.method({col: value}, inplace=True)' or df[col] = df[col].method(value) instead, to perform the operation inplace on the original object.\n",
            "\n",
            "\n",
            "  train[col].fillna(mode_val, inplace=True)\n",
            "/tmp/ipython-input-4240312746.py:4: FutureWarning: A value is trying to be set on a copy of a DataFrame or Series through chained assignment using an inplace method.\n",
            "The behavior will change in pandas 3.0. This inplace method will never work because the intermediate object on which we are setting values always behaves as a copy.\n",
            "\n",
            "For example, when doing 'df[col].method(value, inplace=True)', try using 'df.method({col: value}, inplace=True)' or df[col] = df[col].method(value) instead, to perform the operation inplace on the original object.\n",
            "\n",
            "\n",
            "  test[col].fillna(mode_val, inplace=True)\n"
          ]
        }
      ]
    },
    {
      "cell_type": "code",
      "source": [
        "train.info()"
      ],
      "metadata": {
        "colab": {
          "base_uri": "https://localhost:8080/"
        },
        "id": "mQ-xgbsr3_OH",
        "outputId": "d1e518c9-d6e0-4198-fa20-3cda2f880105"
      },
      "execution_count": 23,
      "outputs": [
        {
          "output_type": "stream",
          "name": "stdout",
          "text": [
            "<class 'pandas.core.frame.DataFrame'>\n",
            "RangeIndex: 188533 entries, 0 to 188532\n",
            "Data columns (total 15 columns):\n",
            " #   Column            Non-Null Count   Dtype \n",
            "---  ------            --------------   ----- \n",
            " 0   id                188533 non-null  int64 \n",
            " 1   brand             188533 non-null  object\n",
            " 2   model             188533 non-null  object\n",
            " 3   model_year        188533 non-null  int64 \n",
            " 4   milage            188533 non-null  int64 \n",
            " 5   fuel_type         188533 non-null  object\n",
            " 6   engine            188533 non-null  object\n",
            " 7   transmission      188533 non-null  object\n",
            " 8   ext_col           188533 non-null  object\n",
            " 9   int_col           188533 non-null  object\n",
            " 10  accident          188533 non-null  object\n",
            " 11  clean_title       188533 non-null  object\n",
            " 12  price             188533 non-null  int64 \n",
            " 13  clean_title_flag  188533 non-null  int64 \n",
            " 14  car_age           188533 non-null  int64 \n",
            "dtypes: int64(6), object(9)\n",
            "memory usage: 21.6+ MB\n"
          ]
        }
      ]
    },
    {
      "cell_type": "code",
      "source": [
        "print(train.isnull().sum())"
      ],
      "metadata": {
        "colab": {
          "base_uri": "https://localhost:8080/"
        },
        "id": "Ak_dtVc55ZxI",
        "outputId": "3a408003-386b-441b-bac0-134c5b0860c1"
      },
      "execution_count": 24,
      "outputs": [
        {
          "output_type": "stream",
          "name": "stdout",
          "text": [
            "id                  0\n",
            "brand               0\n",
            "model               0\n",
            "model_year          0\n",
            "milage              0\n",
            "fuel_type           0\n",
            "engine              0\n",
            "transmission        0\n",
            "ext_col             0\n",
            "int_col             0\n",
            "accident            0\n",
            "clean_title         0\n",
            "price               0\n",
            "clean_title_flag    0\n",
            "car_age             0\n",
            "dtype: int64\n"
          ]
        }
      ]
    },
    {
      "cell_type": "code",
      "source": [
        "categorical_cols = [\"brand\", \"model\", \"fuel_type\", \"transmission\",\n",
        "                    \"ext_col\", \"int_col\", \"engine\", \"accident\"]\n",
        "numeric_cols = [col for col in X.columns if col not in categorical_cols]\n",
        "\n",
        "# Transformer: One-hot encode categoricals, pass through numeric\n",
        "preprocessor = ColumnTransformer(\n",
        "    transformers=[\n",
        "        (\"cat\", OneHotEncoder(handle_unknown=\"ignore\"), categorical_cols),\n",
        "        (\"num\", \"passthrough\", numeric_cols)\n",
        "    ]\n",
        ")"
      ],
      "metadata": {
        "id": "2LZdxurv6b-5"
      },
      "execution_count": 25,
      "outputs": []
    },
    {
      "cell_type": "code",
      "source": [
        "rf = RandomForestRegressor(\n",
        "    n_estimators=100,     # keep trees reasonable (try 50 if still slow)\n",
        "    max_depth=15,         # limit depth\n",
        "    max_features=\"sqrt\",  # fewer features per split = faster\n",
        "    n_jobs=-1,\n",
        "    random_state=42\n",
        ")\n",
        "\n",
        "model = Pipeline(steps=[\n",
        "    (\"preprocessor\", preprocessor),\n",
        "    (\"regressor\", rf)\n",
        "])\n",
        "\n",
        "# Cross-validation\n",
        "cv_scores = cross_val_score(\n",
        "    model, X, y, cv=3,   # reduce folds to 3 if you just need results today\n",
        "    scoring=\"neg_root_mean_squared_error\",\n",
        "    n_jobs=-1\n",
        ")\n",
        "\n",
        "print(\"Baseline CV RMSE scores:\", -cv_scores)\n",
        "print(\"Baseline Average RMSE:\", -cv_scores.mean())"
      ],
      "metadata": {
        "id": "I8UO_dY18dcc",
        "colab": {
          "base_uri": "https://localhost:8080/"
        },
        "outputId": "0469d268-0565-4fc4-a43a-42042c07a7ab"
      },
      "execution_count": 26,
      "outputs": [
        {
          "output_type": "stream",
          "name": "stdout",
          "text": [
            "Baseline CV RMSE scores: [76132.39417687 76259.80028303 73890.82574954]\n",
            "Baseline Average RMSE: 75427.67340314454\n"
          ]
        }
      ]
    },
    {
      "cell_type": "code",
      "source": [
        "model.fit(X, y)\n",
        "\n",
        "# === Predict on test set ===\n",
        "test_preds = model.predict(X_test)\n",
        "\n",
        "# === Prepare submission ===\n",
        "submission = pd.DataFrame({\n",
        "    \"id\": test[\"id\"],\n",
        "    \"price\": test_preds\n",
        "})\n",
        "\n",
        "# Save to CSV\n",
        "submission.to_csv(\"submission.csv\", index=False)\n"
      ],
      "metadata": {
        "id": "zPMVzeRrDni9"
      },
      "execution_count": 28,
      "outputs": []
    },
    {
      "cell_type": "code",
      "source": [
        "print(submission.shape)"
      ],
      "metadata": {
        "colab": {
          "base_uri": "https://localhost:8080/"
        },
        "id": "H51zgpAlqOcl",
        "outputId": "8065873a-270a-4163-b3c4-fbac81895a20"
      },
      "execution_count": 29,
      "outputs": [
        {
          "output_type": "stream",
          "name": "stdout",
          "text": [
            "(125690, 2)\n"
          ]
        }
      ]
    }
  ]
}